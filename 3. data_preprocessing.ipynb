{
 "cells": [
  {
   "cell_type": "code",
   "execution_count": 1,
   "metadata": {},
   "outputs": [],
   "source": [
    "# import library\n",
    "import pandas as pd\n",
    "import numpy as np\n",
    "import joblib\n",
    "\n",
    "from sklearn.preprocessing import StandardScaler\n",
    "from sklearn.impute import SimpleImputer\n",
    "\n",
    "from imblearn.under_sampling import RandomUnderSampler"
   ]
  },
  {
   "cell_type": "markdown",
   "metadata": {},
   "source": [
    "# Plan preprocessing"
   ]
  },
  {
   "cell_type": "markdown",
   "metadata": {},
   "source": [
    "**Summary EDA**:\n",
    "- Data yang `NumberOfTimes90DaysLate == 96` atau `NumberOfTimes90DaysLate == 98` di delete\n",
    "- Data yang `RevolvingUtilizationOfUnsecuredLines > 1.35` di delete\n",
    "- Missing value imputation \n",
    "  - `MonthlyIncome` : Median\n",
    "  - `NumberOfDependents` : 0.0"
   ]
  },
  {
   "cell_type": "markdown",
   "metadata": {},
   "source": [
    "## Load dataset"
   ]
  },
  {
   "cell_type": "code",
   "execution_count": 2,
   "metadata": {},
   "outputs": [],
   "source": [
    "# load the dataset function\n",
    "def load_dataset():\n",
    "  # load train data\n",
    "  X_train = joblib.load('data/output/X_train.pkl')\n",
    "  y_train = joblib.load('data/output/y_train.pkl')\n",
    "  \n",
    "  # load valid data\n",
    "  X_valid = joblib.load('data/output/X_valid.pkl')\n",
    "  y_valid = joblib.load('data/output/y_valid.pkl')\n",
    "  \n",
    "  # load test data\n",
    "  X_test = joblib.load('data/output/X_test.pkl')\n",
    "  y_test = joblib.load('data/output/y_test.pkl')\n",
    "  \n",
    "  # print shape\n",
    "  print('X_train shape :', X_train.shape)\n",
    "  print('y_train shape :', y_train.shape)\n",
    "  print('X_valid shape :', X_valid.shape)\n",
    "  print('y_valid shape :', y_valid.shape)\n",
    "  print('X_test shape :', X_test.shape)\n",
    "  print('y_test shape :', y_test.shape)\n",
    "  return X_train, X_valid, X_test, y_train, y_valid, y_test"
   ]
  },
  {
   "cell_type": "code",
   "execution_count": 3,
   "metadata": {},
   "outputs": [
    {
     "name": "stdout",
     "output_type": "stream",
     "text": [
      "X_train shape : (96000, 10)\n",
      "y_train shape : (96000,)\n",
      "X_valid shape : (24000, 10)\n",
      "y_valid shape : (24000,)\n",
      "X_test shape : (30000, 10)\n",
      "y_test shape : (30000,)\n"
     ]
    }
   ],
   "source": [
    "# running load dataset function\n",
    "X_train, X_valid, X_test, y_train, y_valid, y_test = load_dataset()"
   ]
  },
  {
   "cell_type": "markdown",
   "metadata": {},
   "source": [
    "## Preprocess Train"
   ]
  },
  {
   "cell_type": "markdown",
   "metadata": {},
   "source": [
    "1. Drop values in `NumberOfTimes90DaysLate` bigger than or equal to 96"
   ]
  },
  {
   "cell_type": "code",
   "execution_count": 4,
   "metadata": {},
   "outputs": [],
   "source": [
    "# clean late data function\n",
    "def clean_late_data(X, y):\n",
    "  \"\"\"Function to clean NumberOfTimes90DaysLate columns\"\"\"\n",
    "  # find index drop\n",
    "  drop_condition = X['NumberOfTimes90DaysLate'] >= 96\n",
    "  index_to_drop = X[drop_condition].index.tolist()\n",
    "  \n",
    "  # drop data\n",
    "  X_drop = X.drop(index = index_to_drop)\n",
    "  y_drop = y.drop(index = index_to_drop)\n",
    "  \n",
    "  # print \n",
    "  print('X shape :', X_drop.shape)\n",
    "  print('y shape :', y_drop.shape)\n",
    "  \n",
    "  return X_drop, y_drop"
   ]
  },
  {
   "cell_type": "code",
   "execution_count": 5,
   "metadata": {},
   "outputs": [
    {
     "name": "stdout",
     "output_type": "stream",
     "text": [
      "X shape : (95838, 10)\n",
      "y shape : (95838,)\n"
     ]
    }
   ],
   "source": [
    "# running the claen date data in data train\n",
    "X_train_drop_1, y_train_drop_1 = clean_late_data(X_train, y_train)"
   ]
  },
  {
   "cell_type": "markdown",
   "metadata": {},
   "source": [
    "2. Data yang `RevolvingUtilizationOfUnsecuredLines > 1.35` di delete"
   ]
  },
  {
   "cell_type": "code",
   "execution_count": 6,
   "metadata": {},
   "outputs": [],
   "source": [
    "# clean unsecured data function\n",
    "def clean_unsecured_data(X, y):\n",
    "  \"\"\"Function to clean RevolvingUtilizationOfUnsecuredLines columns from outlier\"\"\"\n",
    "  q1, q3 = np.quantile(X['RevolvingUtilizationOfUnsecuredLines'], q = [0.25, 0.75])\n",
    "  iqr = q3 - q1\n",
    "  ub = q3 + 1.5*iqr\n",
    "  lb = q1 - 1.5*iqr\n",
    "  \n",
    "  # filter data\n",
    "  drop_condition_1 = X['RevolvingUtilizationOfUnsecuredLines'] > ub\n",
    "  drop_condition_2 = X['RevolvingUtilizationOfUnsecuredLines'] < lb\n",
    "  index_to_drop = X[drop_condition_1 | drop_condition_2].index.tolist()\n",
    "  \n",
    "  # drop data \n",
    "  X_drop = X.drop(index = index_to_drop)\n",
    "  y_drop = y.drop(index = index_to_drop)\n",
    "  \n",
    "  # print\n",
    "  print('X shape :', X_drop.shape)\n",
    "  print('y shape :', y_drop.shape)\n",
    "  \n",
    "  return X_drop, y_drop"
   ]
  },
  {
   "cell_type": "code",
   "execution_count": 7,
   "metadata": {},
   "outputs": [
    {
     "name": "stdout",
     "output_type": "stream",
     "text": [
      "X shape : (95350, 10)\n",
      "y shape : (95350,)\n"
     ]
    }
   ],
   "source": [
    "# running the clean unsecured data function\n",
    "X_train_drop_2, y_train_drop_2 = clean_unsecured_data(X_train_drop_1, y_train_drop_1)"
   ]
  },
  {
   "cell_type": "markdown",
   "metadata": {},
   "source": [
    "3. Missing value imputation \n",
    "  - `MonthlyIncome` : Median\n",
    "  - `NumberOfDependents` : 0.0"
   ]
  },
  {
   "cell_type": "code",
   "execution_count": 8,
   "metadata": {},
   "outputs": [],
   "source": [
    "# fit imputer function\n",
    "def fit_imputer(data):\n",
    "  \"\"\"Function to fit imputer (constant & median)\"\"\"\n",
    "  # create imputer zero and median\n",
    "  constant_imputer = SimpleImputer(missing_values = np.nan,\n",
    "                                   strategy= 'constant',\n",
    "                                   fill_value= 0.0)\n",
    "  \n",
    "  median_imputer = SimpleImputer(missing_values = np.nan,\n",
    "                                 strategy = 'median')\n",
    "  \n",
    "  # fit imputer\n",
    "  constant_imputer.fit(data[['NumberOfDependents']])\n",
    "  median_imputer.fit(data[['MonthlyIncome']])\n",
    "  \n",
    "  # dump imputer \n",
    "  joblib.dump(constant_imputer, 'data/output/constant_imputer.pkl')\n",
    "  joblib.dump(median_imputer, 'data/output/median_imputer.pkl')\n",
    "  \n",
    "  return constant_imputer, median_imputer"
   ]
  },
  {
   "cell_type": "code",
   "execution_count": 9,
   "metadata": {},
   "outputs": [],
   "source": [
    "# running the fit imputer function\n",
    "constant_imputer, median_imputer = fit_imputer(data = X_train_drop_2)"
   ]
  },
  {
   "cell_type": "code",
   "execution_count": 10,
   "metadata": {},
   "outputs": [
    {
     "data": {
      "text/plain": [
       "RevolvingUtilizationOfUnsecuredLines        0\n",
       "age                                         0\n",
       "NumberOfTime30-59DaysPastDueNotWorse        0\n",
       "DebtRatio                                   0\n",
       "MonthlyIncome                           18752\n",
       "NumberOfOpenCreditLinesAndLoans             0\n",
       "NumberOfTimes90DaysLate                     0\n",
       "NumberRealEstateLoansOrLines                0\n",
       "NumberOfTime60-89DaysPastDueNotWorse        0\n",
       "NumberOfDependents                       2466\n",
       "dtype: int64"
      ]
     },
     "execution_count": 10,
     "metadata": {},
     "output_type": "execute_result"
    }
   ],
   "source": [
    "# show number of missing value in X_train_drop_2\n",
    "X_train_drop_2.isna().sum()"
   ]
  },
  {
   "cell_type": "code",
   "execution_count": 11,
   "metadata": {},
   "outputs": [],
   "source": [
    "# transform imputer function\n",
    "def transform_imputer(data, constant_imputer, median_imputer):\n",
    "  \"\"\"Function to transform imputer\"\"\"\n",
    "  data = data.copy()\n",
    "  \n",
    "  # build impute constant and median variable\n",
    "  impute_constant = constant_imputer.transform(data[['NumberOfDependents']])\n",
    "  impute_median = median_imputer.transform(data[['MonthlyIncome']])\n",
    "  \n",
    "  # applied impute constant and impute median in NumberOfDependents and MonthlyIncome \n",
    "  data['NumberOfDependents'] = impute_constant\n",
    "  data['MonthlyIncome'] = impute_median\n",
    "  \n",
    "  # print shape of data\n",
    "  print('data shape :', data.shape)\n",
    "  \n",
    "  return data"
   ]
  },
  {
   "cell_type": "code",
   "execution_count": 12,
   "metadata": {},
   "outputs": [
    {
     "name": "stdout",
     "output_type": "stream",
     "text": [
      "data shape : (95350, 10)\n"
     ]
    }
   ],
   "source": [
    "# running the tranform imputer function\n",
    "X_train_imputed = transform_imputer(data=X_train_drop_2,\n",
    "                                    constant_imputer = constant_imputer,\n",
    "                                    median_imputer = median_imputer)"
   ]
  },
  {
   "cell_type": "code",
   "execution_count": 13,
   "metadata": {},
   "outputs": [
    {
     "data": {
      "text/plain": [
       "RevolvingUtilizationOfUnsecuredLines    0\n",
       "age                                     0\n",
       "NumberOfTime30-59DaysPastDueNotWorse    0\n",
       "DebtRatio                               0\n",
       "MonthlyIncome                           0\n",
       "NumberOfOpenCreditLinesAndLoans         0\n",
       "NumberOfTimes90DaysLate                 0\n",
       "NumberRealEstateLoansOrLines            0\n",
       "NumberOfTime60-89DaysPastDueNotWorse    0\n",
       "NumberOfDependents                      0\n",
       "dtype: int64"
      ]
     },
     "execution_count": 13,
     "metadata": {},
     "output_type": "execute_result"
    }
   ],
   "source": [
    "# data train don't have missing values\n",
    "X_train_imputed.isna().sum()"
   ]
  },
  {
   "cell_type": "markdown",
   "metadata": {},
   "source": [
    "4. Standardize data"
   ]
  },
  {
   "cell_type": "code",
   "execution_count": 14,
   "metadata": {},
   "outputs": [],
   "source": [
    "# standardize function\n",
    "def fit_standardize(data):\n",
    "  \"\"\"Find standardizer data\"\"\"\n",
    "  standardizer = StandardScaler()\n",
    "  \n",
    "  # fit standardizer\n",
    "  standardizer.fit(data)\n",
    "  \n",
    "  # dump standardizer \n",
    "  joblib.dump(standardizer, 'data/output/standardizer.pkl')\n",
    "  \n",
    "  return standardizer"
   ]
  },
  {
   "cell_type": "code",
   "execution_count": 15,
   "metadata": {},
   "outputs": [],
   "source": [
    "# fit standardizer \n",
    "standardizer = fit_standardize(data=X_train_imputed)"
   ]
  },
  {
   "cell_type": "code",
   "execution_count": 16,
   "metadata": {},
   "outputs": [
    {
     "data": {
      "text/html": [
       "<style>#sk-container-id-1 {color: black;}#sk-container-id-1 pre{padding: 0;}#sk-container-id-1 div.sk-toggleable {background-color: white;}#sk-container-id-1 label.sk-toggleable__label {cursor: pointer;display: block;width: 100%;margin-bottom: 0;padding: 0.3em;box-sizing: border-box;text-align: center;}#sk-container-id-1 label.sk-toggleable__label-arrow:before {content: \"▸\";float: left;margin-right: 0.25em;color: #696969;}#sk-container-id-1 label.sk-toggleable__label-arrow:hover:before {color: black;}#sk-container-id-1 div.sk-estimator:hover label.sk-toggleable__label-arrow:before {color: black;}#sk-container-id-1 div.sk-toggleable__content {max-height: 0;max-width: 0;overflow: hidden;text-align: left;background-color: #f0f8ff;}#sk-container-id-1 div.sk-toggleable__content pre {margin: 0.2em;color: black;border-radius: 0.25em;background-color: #f0f8ff;}#sk-container-id-1 input.sk-toggleable__control:checked~div.sk-toggleable__content {max-height: 200px;max-width: 100%;overflow: auto;}#sk-container-id-1 input.sk-toggleable__control:checked~label.sk-toggleable__label-arrow:before {content: \"▾\";}#sk-container-id-1 div.sk-estimator input.sk-toggleable__control:checked~label.sk-toggleable__label {background-color: #d4ebff;}#sk-container-id-1 div.sk-label input.sk-toggleable__control:checked~label.sk-toggleable__label {background-color: #d4ebff;}#sk-container-id-1 input.sk-hidden--visually {border: 0;clip: rect(1px 1px 1px 1px);clip: rect(1px, 1px, 1px, 1px);height: 1px;margin: -1px;overflow: hidden;padding: 0;position: absolute;width: 1px;}#sk-container-id-1 div.sk-estimator {font-family: monospace;background-color: #f0f8ff;border: 1px dotted black;border-radius: 0.25em;box-sizing: border-box;margin-bottom: 0.5em;}#sk-container-id-1 div.sk-estimator:hover {background-color: #d4ebff;}#sk-container-id-1 div.sk-parallel-item::after {content: \"\";width: 100%;border-bottom: 1px solid gray;flex-grow: 1;}#sk-container-id-1 div.sk-label:hover label.sk-toggleable__label {background-color: #d4ebff;}#sk-container-id-1 div.sk-serial::before {content: \"\";position: absolute;border-left: 1px solid gray;box-sizing: border-box;top: 0;bottom: 0;left: 50%;z-index: 0;}#sk-container-id-1 div.sk-serial {display: flex;flex-direction: column;align-items: center;background-color: white;padding-right: 0.2em;padding-left: 0.2em;position: relative;}#sk-container-id-1 div.sk-item {position: relative;z-index: 1;}#sk-container-id-1 div.sk-parallel {display: flex;align-items: stretch;justify-content: center;background-color: white;position: relative;}#sk-container-id-1 div.sk-item::before, #sk-container-id-1 div.sk-parallel-item::before {content: \"\";position: absolute;border-left: 1px solid gray;box-sizing: border-box;top: 0;bottom: 0;left: 50%;z-index: -1;}#sk-container-id-1 div.sk-parallel-item {display: flex;flex-direction: column;z-index: 1;position: relative;background-color: white;}#sk-container-id-1 div.sk-parallel-item:first-child::after {align-self: flex-end;width: 50%;}#sk-container-id-1 div.sk-parallel-item:last-child::after {align-self: flex-start;width: 50%;}#sk-container-id-1 div.sk-parallel-item:only-child::after {width: 0;}#sk-container-id-1 div.sk-dashed-wrapped {border: 1px dashed gray;margin: 0 0.4em 0.5em 0.4em;box-sizing: border-box;padding-bottom: 0.4em;background-color: white;}#sk-container-id-1 div.sk-label label {font-family: monospace;font-weight: bold;display: inline-block;line-height: 1.2em;}#sk-container-id-1 div.sk-label-container {text-align: center;}#sk-container-id-1 div.sk-container {/* jupyter's `normalize.less` sets `[hidden] { display: none; }` but bootstrap.min.css set `[hidden] { display: none !important; }` so we also need the `!important` here to be able to override the default hidden behavior on the sphinx rendered scikit-learn.org. See: https://github.com/scikit-learn/scikit-learn/issues/21755 */display: inline-block !important;position: relative;}#sk-container-id-1 div.sk-text-repr-fallback {display: none;}</style><div id=\"sk-container-id-1\" class=\"sk-top-container\"><div class=\"sk-text-repr-fallback\"><pre>StandardScaler()</pre><b>In a Jupyter environment, please rerun this cell to show the HTML representation or trust the notebook. <br />On GitHub, the HTML representation is unable to render, please try loading this page with nbviewer.org.</b></div><div class=\"sk-container\" hidden><div class=\"sk-item\"><div class=\"sk-estimator sk-toggleable\"><input class=\"sk-toggleable__control sk-hidden--visually\" id=\"sk-estimator-id-1\" type=\"checkbox\" checked><label for=\"sk-estimator-id-1\" class=\"sk-toggleable__label sk-toggleable__label-arrow\">StandardScaler</label><div class=\"sk-toggleable__content\"><pre>StandardScaler()</pre></div></div></div></div></div>"
      ],
      "text/plain": [
       "StandardScaler()"
      ]
     },
     "execution_count": 16,
     "metadata": {},
     "output_type": "execute_result"
    }
   ],
   "source": [
    "# show standardizer\n",
    "standardizer"
   ]
  },
  {
   "cell_type": "code",
   "execution_count": 17,
   "metadata": {},
   "outputs": [],
   "source": [
    "# transform standardize function\n",
    "def transform_standardize(data, standardizer):\n",
    "  \"\"\"Function to standardizer data\"\"\"\n",
    "  data_standard = pd.DataFrame(standardizer.transform(data))\n",
    "  data_standard.columns = data.columns\n",
    "  data_standard.index = data.index\n",
    "  return data_standard"
   ]
  },
  {
   "cell_type": "code",
   "execution_count": 18,
   "metadata": {},
   "outputs": [],
   "source": [
    "# Transform standardize\n",
    "X_train_std = transform_standardize(data = X_train_imputed,\n",
    "                                     standardizer = standardizer)"
   ]
  },
  {
   "cell_type": "code",
   "execution_count": 19,
   "metadata": {},
   "outputs": [
    {
     "data": {
      "text/html": [
       "<div>\n",
       "<style scoped>\n",
       "    .dataframe tbody tr th:only-of-type {\n",
       "        vertical-align: middle;\n",
       "    }\n",
       "\n",
       "    .dataframe tbody tr th {\n",
       "        vertical-align: top;\n",
       "    }\n",
       "\n",
       "    .dataframe thead th {\n",
       "        text-align: right;\n",
       "    }\n",
       "</style>\n",
       "<table border=\"1\" class=\"dataframe\">\n",
       "  <thead>\n",
       "    <tr style=\"text-align: right;\">\n",
       "      <th></th>\n",
       "      <th>RevolvingUtilizationOfUnsecuredLines</th>\n",
       "      <th>age</th>\n",
       "      <th>NumberOfTime30-59DaysPastDueNotWorse</th>\n",
       "      <th>DebtRatio</th>\n",
       "      <th>MonthlyIncome</th>\n",
       "      <th>NumberOfOpenCreditLinesAndLoans</th>\n",
       "      <th>NumberOfTimes90DaysLate</th>\n",
       "      <th>NumberRealEstateLoansOrLines</th>\n",
       "      <th>NumberOfTime60-89DaysPastDueNotWorse</th>\n",
       "      <th>NumberOfDependents</th>\n",
       "    </tr>\n",
       "  </thead>\n",
       "  <tbody>\n",
       "    <tr>\n",
       "      <th>145776</th>\n",
       "      <td>-0.660534</td>\n",
       "      <td>0.516647</td>\n",
       "      <td>-0.351172</td>\n",
       "      <td>-0.170463</td>\n",
       "      <td>-0.433419</td>\n",
       "      <td>0.293983</td>\n",
       "      <td>-0.185559</td>\n",
       "      <td>0.863388</td>\n",
       "      <td>-0.194653</td>\n",
       "      <td>-0.665523</td>\n",
       "    </tr>\n",
       "    <tr>\n",
       "      <th>61313</th>\n",
       "      <td>-0.885124</td>\n",
       "      <td>-0.297311</td>\n",
       "      <td>-0.351172</td>\n",
       "      <td>-0.173321</td>\n",
       "      <td>0.234476</td>\n",
       "      <td>1.461602</td>\n",
       "      <td>-0.185559</td>\n",
       "      <td>0.863388</td>\n",
       "      <td>-0.194653</td>\n",
       "      <td>-0.665523</td>\n",
       "    </tr>\n",
       "    <tr>\n",
       "      <th>128371</th>\n",
       "      <td>-0.769224</td>\n",
       "      <td>0.652307</td>\n",
       "      <td>-0.351172</td>\n",
       "      <td>2.929988</td>\n",
       "      <td>-0.074690</td>\n",
       "      <td>2.045412</td>\n",
       "      <td>-0.185559</td>\n",
       "      <td>2.629354</td>\n",
       "      <td>-0.194653</td>\n",
       "      <td>-0.665523</td>\n",
       "    </tr>\n",
       "    <tr>\n",
       "      <th>48243</th>\n",
       "      <td>-0.760501</td>\n",
       "      <td>-1.314759</td>\n",
       "      <td>-0.351172</td>\n",
       "      <td>2.214684</td>\n",
       "      <td>-0.074690</td>\n",
       "      <td>0.099379</td>\n",
       "      <td>-0.185559</td>\n",
       "      <td>1.746371</td>\n",
       "      <td>-0.194653</td>\n",
       "      <td>-0.665523</td>\n",
       "    </tr>\n",
       "    <tr>\n",
       "      <th>54026</th>\n",
       "      <td>-0.465572</td>\n",
       "      <td>-0.161651</td>\n",
       "      <td>-0.351172</td>\n",
       "      <td>-0.173276</td>\n",
       "      <td>-0.177184</td>\n",
       "      <td>0.099379</td>\n",
       "      <td>-0.185559</td>\n",
       "      <td>-0.019595</td>\n",
       "      <td>-0.194653</td>\n",
       "      <td>-0.665523</td>\n",
       "    </tr>\n",
       "    <tr>\n",
       "      <th>...</th>\n",
       "      <td>...</td>\n",
       "      <td>...</td>\n",
       "      <td>...</td>\n",
       "      <td>...</td>\n",
       "      <td>...</td>\n",
       "      <td>...</td>\n",
       "      <td>...</td>\n",
       "      <td>...</td>\n",
       "      <td>...</td>\n",
       "      <td>...</td>\n",
       "    </tr>\n",
       "    <tr>\n",
       "      <th>49714</th>\n",
       "      <td>1.962636</td>\n",
       "      <td>-1.993058</td>\n",
       "      <td>-0.351172</td>\n",
       "      <td>-0.173322</td>\n",
       "      <td>-0.371556</td>\n",
       "      <td>-1.457447</td>\n",
       "      <td>-0.185559</td>\n",
       "      <td>-0.902578</td>\n",
       "      <td>-0.194653</td>\n",
       "      <td>-0.665523</td>\n",
       "    </tr>\n",
       "    <tr>\n",
       "      <th>87940</th>\n",
       "      <td>-0.307005</td>\n",
       "      <td>-0.025992</td>\n",
       "      <td>-0.351172</td>\n",
       "      <td>0.784075</td>\n",
       "      <td>-0.074690</td>\n",
       "      <td>-0.095224</td>\n",
       "      <td>-0.185559</td>\n",
       "      <td>-0.019595</td>\n",
       "      <td>-0.194653</td>\n",
       "      <td>-0.665523</td>\n",
       "    </tr>\n",
       "    <tr>\n",
       "      <th>138289</th>\n",
       "      <td>1.408749</td>\n",
       "      <td>-0.907780</td>\n",
       "      <td>-0.351172</td>\n",
       "      <td>0.460108</td>\n",
       "      <td>-0.074690</td>\n",
       "      <td>0.099379</td>\n",
       "      <td>-0.185559</td>\n",
       "      <td>-0.902578</td>\n",
       "      <td>-0.194653</td>\n",
       "      <td>-0.665523</td>\n",
       "    </tr>\n",
       "    <tr>\n",
       "      <th>78494</th>\n",
       "      <td>-0.265850</td>\n",
       "      <td>0.380988</td>\n",
       "      <td>-0.351172</td>\n",
       "      <td>-0.173402</td>\n",
       "      <td>0.028024</td>\n",
       "      <td>-0.484431</td>\n",
       "      <td>-0.185559</td>\n",
       "      <td>-0.902578</td>\n",
       "      <td>-0.194653</td>\n",
       "      <td>0.238818</td>\n",
       "    </tr>\n",
       "    <tr>\n",
       "      <th>8981</th>\n",
       "      <td>-0.233957</td>\n",
       "      <td>1.059286</td>\n",
       "      <td>1.089198</td>\n",
       "      <td>-0.173348</td>\n",
       "      <td>-0.323604</td>\n",
       "      <td>-0.679034</td>\n",
       "      <td>-0.185559</td>\n",
       "      <td>-0.902578</td>\n",
       "      <td>-0.194653</td>\n",
       "      <td>-0.665523</td>\n",
       "    </tr>\n",
       "  </tbody>\n",
       "</table>\n",
       "<p>95350 rows × 10 columns</p>\n",
       "</div>"
      ],
      "text/plain": [
       "        RevolvingUtilizationOfUnsecuredLines       age  \\\n",
       "145776                             -0.660534  0.516647   \n",
       "61313                              -0.885124 -0.297311   \n",
       "128371                             -0.769224  0.652307   \n",
       "48243                              -0.760501 -1.314759   \n",
       "54026                              -0.465572 -0.161651   \n",
       "...                                      ...       ...   \n",
       "49714                               1.962636 -1.993058   \n",
       "87940                              -0.307005 -0.025992   \n",
       "138289                              1.408749 -0.907780   \n",
       "78494                              -0.265850  0.380988   \n",
       "8981                               -0.233957  1.059286   \n",
       "\n",
       "        NumberOfTime30-59DaysPastDueNotWorse  DebtRatio  MonthlyIncome  \\\n",
       "145776                             -0.351172  -0.170463      -0.433419   \n",
       "61313                              -0.351172  -0.173321       0.234476   \n",
       "128371                             -0.351172   2.929988      -0.074690   \n",
       "48243                              -0.351172   2.214684      -0.074690   \n",
       "54026                              -0.351172  -0.173276      -0.177184   \n",
       "...                                      ...        ...            ...   \n",
       "49714                              -0.351172  -0.173322      -0.371556   \n",
       "87940                              -0.351172   0.784075      -0.074690   \n",
       "138289                             -0.351172   0.460108      -0.074690   \n",
       "78494                              -0.351172  -0.173402       0.028024   \n",
       "8981                                1.089198  -0.173348      -0.323604   \n",
       "\n",
       "        NumberOfOpenCreditLinesAndLoans  NumberOfTimes90DaysLate  \\\n",
       "145776                         0.293983                -0.185559   \n",
       "61313                          1.461602                -0.185559   \n",
       "128371                         2.045412                -0.185559   \n",
       "48243                          0.099379                -0.185559   \n",
       "54026                          0.099379                -0.185559   \n",
       "...                                 ...                      ...   \n",
       "49714                         -1.457447                -0.185559   \n",
       "87940                         -0.095224                -0.185559   \n",
       "138289                         0.099379                -0.185559   \n",
       "78494                         -0.484431                -0.185559   \n",
       "8981                          -0.679034                -0.185559   \n",
       "\n",
       "        NumberRealEstateLoansOrLines  NumberOfTime60-89DaysPastDueNotWorse  \\\n",
       "145776                      0.863388                             -0.194653   \n",
       "61313                       0.863388                             -0.194653   \n",
       "128371                      2.629354                             -0.194653   \n",
       "48243                       1.746371                             -0.194653   \n",
       "54026                      -0.019595                             -0.194653   \n",
       "...                              ...                                   ...   \n",
       "49714                      -0.902578                             -0.194653   \n",
       "87940                      -0.019595                             -0.194653   \n",
       "138289                     -0.902578                             -0.194653   \n",
       "78494                      -0.902578                             -0.194653   \n",
       "8981                       -0.902578                             -0.194653   \n",
       "\n",
       "        NumberOfDependents  \n",
       "145776           -0.665523  \n",
       "61313            -0.665523  \n",
       "128371           -0.665523  \n",
       "48243            -0.665523  \n",
       "54026            -0.665523  \n",
       "...                    ...  \n",
       "49714            -0.665523  \n",
       "87940            -0.665523  \n",
       "138289           -0.665523  \n",
       "78494             0.238818  \n",
       "8981             -0.665523  \n",
       "\n",
       "[95350 rows x 10 columns]"
      ]
     },
     "execution_count": 19,
     "metadata": {},
     "output_type": "execute_result"
    }
   ],
   "source": [
    "# show X_train_std \n",
    "X_train_std"
   ]
  },
  {
   "cell_type": "code",
   "execution_count": 20,
   "metadata": {},
   "outputs": [
    {
     "data": {
      "text/html": [
       "<div>\n",
       "<style scoped>\n",
       "    .dataframe tbody tr th:only-of-type {\n",
       "        vertical-align: middle;\n",
       "    }\n",
       "\n",
       "    .dataframe tbody tr th {\n",
       "        vertical-align: top;\n",
       "    }\n",
       "\n",
       "    .dataframe thead th {\n",
       "        text-align: right;\n",
       "    }\n",
       "</style>\n",
       "<table border=\"1\" class=\"dataframe\">\n",
       "  <thead>\n",
       "    <tr style=\"text-align: right;\">\n",
       "      <th></th>\n",
       "      <th>RevolvingUtilizationOfUnsecuredLines</th>\n",
       "      <th>age</th>\n",
       "      <th>NumberOfTime30-59DaysPastDueNotWorse</th>\n",
       "      <th>DebtRatio</th>\n",
       "      <th>MonthlyIncome</th>\n",
       "      <th>NumberOfOpenCreditLinesAndLoans</th>\n",
       "      <th>NumberOfTimes90DaysLate</th>\n",
       "      <th>NumberRealEstateLoansOrLines</th>\n",
       "      <th>NumberOfTime60-89DaysPastDueNotWorse</th>\n",
       "      <th>NumberOfDependents</th>\n",
       "    </tr>\n",
       "  </thead>\n",
       "  <tbody>\n",
       "    <tr>\n",
       "      <th>count</th>\n",
       "      <td>9.535000e+04</td>\n",
       "      <td>9.535000e+04</td>\n",
       "      <td>9.535000e+04</td>\n",
       "      <td>9.535000e+04</td>\n",
       "      <td>9.535000e+04</td>\n",
       "      <td>9.535000e+04</td>\n",
       "      <td>9.535000e+04</td>\n",
       "      <td>9.535000e+04</td>\n",
       "      <td>9.535000e+04</td>\n",
       "      <td>9.535000e+04</td>\n",
       "    </tr>\n",
       "    <tr>\n",
       "      <th>mean</th>\n",
       "      <td>8.395545e-17</td>\n",
       "      <td>-5.305783e-17</td>\n",
       "      <td>3.815395e-17</td>\n",
       "      <td>-4.471166e-18</td>\n",
       "      <td>2.213227e-17</td>\n",
       "      <td>-1.080532e-16</td>\n",
       "      <td>-3.875010e-18</td>\n",
       "      <td>7.515284e-17</td>\n",
       "      <td>-3.591836e-17</td>\n",
       "      <td>-6.326699e-17</td>\n",
       "    </tr>\n",
       "    <tr>\n",
       "      <th>std</th>\n",
       "      <td>1.000005e+00</td>\n",
       "      <td>1.000005e+00</td>\n",
       "      <td>1.000005e+00</td>\n",
       "      <td>1.000005e+00</td>\n",
       "      <td>1.000005e+00</td>\n",
       "      <td>1.000005e+00</td>\n",
       "      <td>1.000005e+00</td>\n",
       "      <td>1.000005e+00</td>\n",
       "      <td>1.000005e+00</td>\n",
       "      <td>1.000005e+00</td>\n",
       "    </tr>\n",
       "    <tr>\n",
       "      <th>min</th>\n",
       "      <td>-9.054568e-01</td>\n",
       "      <td>-2.128718e+00</td>\n",
       "      <td>-3.511723e-01</td>\n",
       "      <td>-1.734617e-01</td>\n",
       "      <td>-4.700236e-01</td>\n",
       "      <td>-1.652050e+00</td>\n",
       "      <td>-1.855588e-01</td>\n",
       "      <td>-9.025782e-01</td>\n",
       "      <td>-1.946529e-01</td>\n",
       "      <td>-6.655234e-01</td>\n",
       "    </tr>\n",
       "    <tr>\n",
       "      <th>25%</th>\n",
       "      <td>-8.204950e-01</td>\n",
       "      <td>-7.721203e-01</td>\n",
       "      <td>-3.511723e-01</td>\n",
       "      <td>-1.733744e-01</td>\n",
       "      <td>-1.844315e-01</td>\n",
       "      <td>-6.790339e-01</td>\n",
       "      <td>-1.855588e-01</td>\n",
       "      <td>-9.025782e-01</td>\n",
       "      <td>-1.946529e-01</td>\n",
       "      <td>-6.655234e-01</td>\n",
       "    </tr>\n",
       "    <tr>\n",
       "      <th>50%</th>\n",
       "      <td>-4.718411e-01</td>\n",
       "      <td>-2.599161e-02</td>\n",
       "      <td>-3.511723e-01</td>\n",
       "      <td>-1.732795e-01</td>\n",
       "      <td>-7.468973e-02</td>\n",
       "      <td>-9.522398e-02</td>\n",
       "      <td>-1.855588e-01</td>\n",
       "      <td>-1.959509e-02</td>\n",
       "      <td>-1.946529e-01</td>\n",
       "      <td>-6.655234e-01</td>\n",
       "    </tr>\n",
       "    <tr>\n",
       "      <th>75%</th>\n",
       "      <td>6.590006e-01</td>\n",
       "      <td>7.201370e-01</td>\n",
       "      <td>-3.511723e-01</td>\n",
       "      <td>-1.730330e-01</td>\n",
       "      <td>7.173021e-02</td>\n",
       "      <td>4.885859e-01</td>\n",
       "      <td>-1.855588e-01</td>\n",
       "      <td>8.633880e-01</td>\n",
       "      <td>-1.946529e-01</td>\n",
       "      <td>2.388183e-01</td>\n",
       "    </tr>\n",
       "    <tr>\n",
       "      <th>max</th>\n",
       "      <td>2.940152e+00</td>\n",
       "      <td>3.840311e+00</td>\n",
       "      <td>1.693327e+01</td>\n",
       "      <td>1.615339e+02</td>\n",
       "      <td>2.198005e+02</td>\n",
       "      <td>9.634941e+00</td>\n",
       "      <td>3.196411e+01</td>\n",
       "      <td>4.677851e+01</td>\n",
       "      <td>3.404343e+01</td>\n",
       "      <td>1.109092e+01</td>\n",
       "    </tr>\n",
       "  </tbody>\n",
       "</table>\n",
       "</div>"
      ],
      "text/plain": [
       "       RevolvingUtilizationOfUnsecuredLines           age  \\\n",
       "count                          9.535000e+04  9.535000e+04   \n",
       "mean                           8.395545e-17 -5.305783e-17   \n",
       "std                            1.000005e+00  1.000005e+00   \n",
       "min                           -9.054568e-01 -2.128718e+00   \n",
       "25%                           -8.204950e-01 -7.721203e-01   \n",
       "50%                           -4.718411e-01 -2.599161e-02   \n",
       "75%                            6.590006e-01  7.201370e-01   \n",
       "max                            2.940152e+00  3.840311e+00   \n",
       "\n",
       "       NumberOfTime30-59DaysPastDueNotWorse     DebtRatio  MonthlyIncome  \\\n",
       "count                          9.535000e+04  9.535000e+04   9.535000e+04   \n",
       "mean                           3.815395e-17 -4.471166e-18   2.213227e-17   \n",
       "std                            1.000005e+00  1.000005e+00   1.000005e+00   \n",
       "min                           -3.511723e-01 -1.734617e-01  -4.700236e-01   \n",
       "25%                           -3.511723e-01 -1.733744e-01  -1.844315e-01   \n",
       "50%                           -3.511723e-01 -1.732795e-01  -7.468973e-02   \n",
       "75%                           -3.511723e-01 -1.730330e-01   7.173021e-02   \n",
       "max                            1.693327e+01  1.615339e+02   2.198005e+02   \n",
       "\n",
       "       NumberOfOpenCreditLinesAndLoans  NumberOfTimes90DaysLate  \\\n",
       "count                     9.535000e+04             9.535000e+04   \n",
       "mean                     -1.080532e-16            -3.875010e-18   \n",
       "std                       1.000005e+00             1.000005e+00   \n",
       "min                      -1.652050e+00            -1.855588e-01   \n",
       "25%                      -6.790339e-01            -1.855588e-01   \n",
       "50%                      -9.522398e-02            -1.855588e-01   \n",
       "75%                       4.885859e-01            -1.855588e-01   \n",
       "max                       9.634941e+00             3.196411e+01   \n",
       "\n",
       "       NumberRealEstateLoansOrLines  NumberOfTime60-89DaysPastDueNotWorse  \\\n",
       "count                  9.535000e+04                          9.535000e+04   \n",
       "mean                   7.515284e-17                         -3.591836e-17   \n",
       "std                    1.000005e+00                          1.000005e+00   \n",
       "min                   -9.025782e-01                         -1.946529e-01   \n",
       "25%                   -9.025782e-01                         -1.946529e-01   \n",
       "50%                   -1.959509e-02                         -1.946529e-01   \n",
       "75%                    8.633880e-01                         -1.946529e-01   \n",
       "max                    4.677851e+01                          3.404343e+01   \n",
       "\n",
       "       NumberOfDependents  \n",
       "count        9.535000e+04  \n",
       "mean        -6.326699e-17  \n",
       "std          1.000005e+00  \n",
       "min         -6.655234e-01  \n",
       "25%         -6.655234e-01  \n",
       "50%         -6.655234e-01  \n",
       "75%          2.388183e-01  \n",
       "max          1.109092e+01  "
      ]
     },
     "execution_count": 20,
     "metadata": {},
     "output_type": "execute_result"
    }
   ],
   "source": [
    "# statistical summary in X_train_std\n",
    "X_train_std.describe()"
   ]
  },
  {
   "cell_type": "markdown",
   "metadata": {},
   "source": [
    "Balancing data"
   ]
  },
  {
   "cell_type": "code",
   "execution_count": 21,
   "metadata": {},
   "outputs": [
    {
     "data": {
      "text/plain": [
       "0    0.93526\n",
       "1    0.06474\n",
       "Name: SeriousDlqin2yrs, dtype: float64"
      ]
     },
     "execution_count": 21,
     "metadata": {},
     "output_type": "execute_result"
    }
   ],
   "source": [
    "# check balancing data\n",
    "y_train_drop_2.value_counts(normalize=True)"
   ]
  },
  {
   "cell_type": "markdown",
   "metadata": {},
   "source": [
    "Resampling using downsampling (only for training data)"
   ]
  },
  {
   "cell_type": "code",
   "execution_count": 22,
   "metadata": {},
   "outputs": [],
   "source": [
    "# random undersampler function\n",
    "def random_undersampler(X, y):\n",
    "  \"\"\"Function to under sample the majority data\"\"\"\n",
    "  # Create resampling object\n",
    "  ros = RandomUnderSampler(random_state = 42)\n",
    "  \n",
    "  # Balancing the set data\n",
    "  X_resample, y_resample = ros.fit_resample(X, y)\n",
    "  \n",
    "  # print\n",
    "  print('Distribution before resampling :')\n",
    "  print(y.value_counts())\n",
    "  print('Distribution after resampling :')\n",
    "  print(y_resample.value_counts())\n",
    "  \n",
    "  return X_resample, y_resample"
   ]
  },
  {
   "cell_type": "code",
   "execution_count": 23,
   "metadata": {},
   "outputs": [
    {
     "name": "stdout",
     "output_type": "stream",
     "text": [
      "Distribution before resampling :\n",
      "0    89177\n",
      "1     6173\n",
      "Name: SeriousDlqin2yrs, dtype: int64\n",
      "Distribution after resampling :\n",
      "0    6173\n",
      "1    6173\n",
      "Name: SeriousDlqin2yrs, dtype: int64\n"
     ]
    }
   ],
   "source": [
    "# running random undersampler function\n",
    "X_train_clean, y_train_clean = random_undersampler(X_train_std, y_train_drop_2)"
   ]
  },
  {
   "cell_type": "markdown",
   "metadata": {},
   "source": [
    "Drop all preprocessor"
   ]
  },
  {
   "cell_type": "code",
   "execution_count": 24,
   "metadata": {},
   "outputs": [
    {
     "data": {
      "text/plain": [
       "['data/output/preprocessor.pkl']"
      ]
     },
     "execution_count": 24,
     "metadata": {},
     "output_type": "execute_result"
    }
   ],
   "source": [
    "preprocessor = {\n",
    "  'constant_imputer' : constant_imputer,\n",
    "  'median_imputer' : median_imputer,\n",
    "  'standardizer' : standardizer\n",
    "}\n",
    "\n",
    "joblib.dump(preprocessor, 'data/output/preprocessor.pkl')"
   ]
  },
  {
   "cell_type": "markdown",
   "metadata": {},
   "source": [
    "# Preprocess all"
   ]
  },
  {
   "cell_type": "code",
   "execution_count": 25,
   "metadata": {},
   "outputs": [],
   "source": [
    "# clean data function\n",
    "def clean_data(data, constant_imputer, median_imputer, standardizer):\n",
    "  \"\"\"Function to clean data\"\"\"\n",
    "  # impute missing value\n",
    "  data_imputed = transform_imputer(data, constant_imputer, median_imputer)\n",
    "  \n",
    "  # standardize data\n",
    "  data_standard = transform_standardize(data_imputed, standardizer)\n",
    "  \n",
    "  return data_standard"
   ]
  },
  {
   "cell_type": "code",
   "execution_count": 26,
   "metadata": {},
   "outputs": [],
   "source": [
    "# _preprocess_data function\n",
    "def _preprocess_data(data):\n",
    "  \"\"\"Function to preprocess data\"\"\"\n",
    "  # load preprocess\n",
    "  preprocessor = joblib.load('data/output/preprocessor.pkl')\n",
    "  constant_imputer = preprocessor['constant_imputer']\n",
    "  median_imputer = preprocessor['median_imputer']\n",
    "  standardizer = preprocessor['standardizer']\n",
    "  \n",
    "  data_clean = clean_data(data,\n",
    "                          constant_imputer,\n",
    "                          median_imputer,\n",
    "                          standardizer)\n",
    "  \n",
    "  return data_clean"
   ]
  },
  {
   "cell_type": "markdown",
   "metadata": {},
   "source": [
    "## preprocess all"
   ]
  },
  {
   "cell_type": "markdown",
   "metadata": {},
   "source": [
    "Generate preprocessor"
   ]
  },
  {
   "cell_type": "code",
   "execution_count": 27,
   "metadata": {},
   "outputs": [],
   "source": [
    "# generate preprocessor function\n",
    "def generate_preprocessor():\n",
    "  \"\"\"Function to generate preprocessor\"\"\"\n",
    "  # load data \n",
    "  X = joblib.load('data/output/X_train.pkl')\n",
    "  y = joblib.load('data/output/y_train.pkl')\n",
    "  \n",
    "  # drop unusual data\n",
    "  X, y = clean_late_data(X, y)\n",
    "  X, y = clean_unsecured_data(X, y)\n",
    "  \n",
    "  # Generate preprocessor: imputer\n",
    "  constant_imputer, median_imputer = fit_imputer(data = X)\n",
    "  X_imputed = transform_imputer(X, constant_imputer, median_imputer)\n",
    "  \n",
    "  # Generate preprocessor: standardizer\n",
    "  standardizer = fit_standardize(X_imputed)\n",
    "  \n",
    "  # dump file = \n",
    "  preprocessor = {\n",
    "    'constant_imputer' : constant_imputer,\n",
    "    'median_imputer' : median_imputer,\n",
    "    'standardizer' : standardizer\n",
    "  }\n",
    "  \n",
    "  joblib.dump(preprocessor, 'data/output/preprocessor.pkl')\n",
    "  \n",
    "  return preprocessor"
   ]
  },
  {
   "cell_type": "code",
   "execution_count": 28,
   "metadata": {},
   "outputs": [
    {
     "name": "stdout",
     "output_type": "stream",
     "text": [
      "X shape : (95838, 10)\n",
      "y shape : (95838,)\n",
      "X shape : (95350, 10)\n",
      "y shape : (95350,)\n",
      "data shape : (95350, 10)\n"
     ]
    }
   ],
   "source": [
    "# running generate preprocessor function\n",
    "preprocessor = generate_preprocessor()"
   ]
  },
  {
   "cell_type": "markdown",
   "metadata": {},
   "source": [
    "# for train"
   ]
  },
  {
   "cell_type": "code",
   "execution_count": 29,
   "metadata": {},
   "outputs": [],
   "source": [
    "# preprocess data function\n",
    "def preprocess_data(type='train'):\n",
    "  \"\"\"Function to preprocess train data\"\"\"\n",
    "  # load data\n",
    "  X = joblib.load(f'data/output/X_{type}.pkl')\n",
    "  y = joblib.load(f'data/output/y_{type}.pkl')\n",
    "  \n",
    "  # drop unusual data\n",
    "  X, y = clean_late_data(X, y)\n",
    "  X, y = clean_unsecured_data(X, y)\n",
    "  \n",
    "  # preprocess data = \n",
    "  X_clean = _preprocess_data(X)\n",
    "  y_clean = y\n",
    "  \n",
    "  # Undersampling\n",
    "  X_clean, y_clean = random_undersampler(X_clean, y_clean)\n",
    "  \n",
    "  # print shape\n",
    "  print('X clean shape :', X_clean.shape)\n",
    "  print('y clean shape :', y_clean.shape)\n",
    "  \n",
    "  joblib.dump(X_clean, f'data/output/X_{type}_clean.pkl')\n",
    "  joblib.dump(y_clean, f'data/output/y_{type}_clean.pkl')\n",
    "  \n",
    "  return X_clean, y_clean"
   ]
  },
  {
   "cell_type": "code",
   "execution_count": 30,
   "metadata": {},
   "outputs": [
    {
     "name": "stdout",
     "output_type": "stream",
     "text": [
      "X shape : (95838, 10)\n",
      "y shape : (95838,)\n",
      "X shape : (95350, 10)\n",
      "y shape : (95350,)\n",
      "data shape : (95350, 10)\n",
      "Distribution before resampling :\n",
      "0    89177\n",
      "1     6173\n",
      "Name: SeriousDlqin2yrs, dtype: int64\n",
      "Distribution after resampling :\n",
      "0    6173\n",
      "1    6173\n",
      "Name: SeriousDlqin2yrs, dtype: int64\n",
      "X clean shape : (12346, 10)\n",
      "y clean shape : (12346,)\n"
     ]
    }
   ],
   "source": [
    "# transform X_train\n",
    "X_train_clean, y_train_clean = preprocess_data(type='train')"
   ]
  },
  {
   "cell_type": "code",
   "execution_count": 31,
   "metadata": {},
   "outputs": [
    {
     "name": "stdout",
     "output_type": "stream",
     "text": [
      "X shape : (23947, 10)\n",
      "y shape : (23947,)\n",
      "X shape : (23821, 10)\n",
      "y shape : (23821,)\n",
      "data shape : (23821, 10)\n",
      "Distribution before resampling :\n",
      "0    22235\n",
      "1     1586\n",
      "Name: SeriousDlqin2yrs, dtype: int64\n",
      "Distribution after resampling :\n",
      "0    1586\n",
      "1    1586\n",
      "Name: SeriousDlqin2yrs, dtype: int64\n",
      "X clean shape : (3172, 10)\n",
      "y clean shape : (3172,)\n"
     ]
    }
   ],
   "source": [
    "# transform X_valid\n",
    "X_valid_clean, y_valid_clean = preprocess_data(type='valid')"
   ]
  },
  {
   "cell_type": "code",
   "execution_count": 32,
   "metadata": {},
   "outputs": [
    {
     "name": "stdout",
     "output_type": "stream",
     "text": [
      "X shape : (29946, 10)\n",
      "y shape : (29946,)\n",
      "X shape : (29790, 10)\n",
      "y shape : (29790,)\n",
      "data shape : (29790, 10)\n",
      "Distribution before resampling :\n",
      "0    27908\n",
      "1     1882\n",
      "Name: SeriousDlqin2yrs, dtype: int64\n",
      "Distribution after resampling :\n",
      "0    1882\n",
      "1    1882\n",
      "Name: SeriousDlqin2yrs, dtype: int64\n",
      "X clean shape : (3764, 10)\n",
      "y clean shape : (3764,)\n"
     ]
    }
   ],
   "source": [
    "# transform X_test\n",
    "X_test_clean, y_test_clean = preprocess_data(type='test')"
   ]
  },
  {
   "cell_type": "code",
   "execution_count": 33,
   "metadata": {},
   "outputs": [
    {
     "data": {
      "text/plain": [
       "['RevolvingUtilizationOfUnsecuredLines',\n",
       " 'age',\n",
       " 'NumberOfTime30-59DaysPastDueNotWorse',\n",
       " 'DebtRatio',\n",
       " 'MonthlyIncome',\n",
       " 'NumberOfOpenCreditLinesAndLoans',\n",
       " 'NumberOfTimes90DaysLate',\n",
       " 'NumberRealEstateLoansOrLines',\n",
       " 'NumberOfTime60-89DaysPastDueNotWorse',\n",
       " 'NumberOfDependents']"
      ]
     },
     "execution_count": 33,
     "metadata": {},
     "output_type": "execute_result"
    }
   ],
   "source": [
    "# show list of X_train_clean column\n",
    "X_train_clean.columns.tolist()"
   ]
  }
 ],
 "metadata": {
  "kernelspec": {
   "display_name": "Python 3",
   "language": "python",
   "name": "python3"
  },
  "language_info": {
   "codemirror_mode": {
    "name": "ipython",
    "version": 3
   },
   "file_extension": ".py",
   "mimetype": "text/x-python",
   "name": "python",
   "nbconvert_exporter": "python",
   "pygments_lexer": "ipython3",
   "version": "3.11.0"
  }
 },
 "nbformat": 4,
 "nbformat_minor": 2
}
